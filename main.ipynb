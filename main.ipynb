{
 "cells": [
  {
   "cell_type": "code",
   "execution_count": 149,
   "metadata": {},
   "outputs": [],
   "source": [
    "import pandas as pd\n",
    "import matplotlib.pyplot as plt\n",
    "import yfinance as yf"
   ]
  },
  {
   "cell_type": "code",
   "execution_count": 150,
   "metadata": {},
   "outputs": [
    {
     "name": "stdout",
     "output_type": "stream",
     "text": [
      "39.01935782771739\n"
     ]
    }
   ],
   "source": [
    "# 1- Índice de Sharpe Alphabet\n",
    "\n",
    "alphabet = 'GOOG'\n",
    "ticker_alphabet = yf.Ticker(alphabet)\n",
    "data_goog = ticker_alphabet.history(period='3y') \n",
    "investimento_inicial = 1000 \n",
    "n_acoes1 = investimento_inicial / data_goog.iloc[0]['Close']\n",
    "data_goog['Valor investido'] = n_acoes1 * data_goog['Close']\n",
    "datap = pd.DataFrame()\n",
    "datap['Valor investido'] = data_goog['Valor investido']\n",
    "ret_goog = data_goog['Valor investido'].pct_change()\n",
    "ret_total1 = (data_goog.iloc[-1]['Valor investido']/data_goog.iloc[0]['Valor investido'] - 1)\n",
    "sigma_goog = ret_goog.std()\n",
    "sharpe_inicial = ret_total1/sigma_goog\n",
    "print(sharpe_inicial)"
   ]
  },
  {
   "cell_type": "code",
   "execution_count": 151,
   "metadata": {},
   "outputs": [],
   "source": [
    "# 2- Coleta de Dados\n",
    "\n",
    "empresas = ['AAPL', 'ACN', 'ADBE', 'AMZN', 'AVGO', 'CRM', 'CSCO', 'GOOG', 'INTU', 'META', 'MSFT', 'ORCL', 'SAP', 'SHOP' ,'SNPS', 'TCEHY', 'TSLA', 'UBER', 'VMW', 'ZM']\n",
    "dados_gerais = []\n",
    "\n",
    "# Dados 1\n",
    "\n",
    "for acao in empresas:\n",
    "    dados = {}\n",
    "    informacoes = yf.Ticker(acao).history(period='3y')\n",
    "\n",
    "    dados['Nome'] = acao\n",
    "    dados['Valor investido inicial'] = 1000\n",
    "\n",
    "    dados['Quantidade Ações'] = 1000 / informacoes['Close'].iloc[0]\n",
    "    dados['Valor investido atual'] = dados['Quantidade Ações'] * informacoes['Close'].iloc[-1]\n",
    "    dados['Valor ganho dia'] = dados['Quantidade Ações'] * informacoes['Close']\n",
    "\n",
    "# Dados 2\n",
    "\n",
    "    dados['Retorno relativo total'] = (dados['Valor investido atual'] / dados['Valor investido inicial']) -1\n",
    "    dados['Retorno relativo diario'] = (dados['Quantidade Ações'] * informacoes['Close']).pct_change()\n",
    "    dados['Desvio padrão diario'] = dados['Retorno relativo diario'].std()\n",
    "    dados['Indice Sharpee'] = dados['Retorno relativo total']/ dados['Desvio padrão diario']\n",
    "    \n",
    "    dados_gerais.append(dados)"
   ]
  },
  {
   "cell_type": "code",
   "execution_count": 152,
   "metadata": {},
   "outputs": [
    {
     "name": "stdout",
     "output_type": "stream",
     "text": [
      "0.2713677995171114\n",
      "TCEHY\n"
     ]
    },
    {
     "name": "stderr",
     "output_type": "stream",
     "text": [
      "C:\\Users\\gusri\\AppData\\Local\\Temp\\ipykernel_26620\\4204218587.py:23: FutureWarning: Series.__getitem__ treating keys as positions is deprecated. In a future version, integer keys will always be treated as labels (consistent with DataFrame behavior). To access a value by position, use `ser.iloc[pos]`\n",
      "  if correlacoes['Portifolio GOOG'][i] < menor_correlacao1:\n",
      "C:\\Users\\gusri\\AppData\\Local\\Temp\\ipykernel_26620\\4204218587.py:24: FutureWarning: Series.__getitem__ treating keys as positions is deprecated. In a future version, integer keys will always be treated as labels (consistent with DataFrame behavior). To access a value by position, use `ser.iloc[pos]`\n",
      "  menor_correlacao1 = correlacoes['Portifolio GOOG'][i]\n"
     ]
    }
   ],
   "source": [
    "# 3- Cálculo Correlação\n",
    "\n",
    "portfolio = []\n",
    "nova_adicao = 'GOOG'\n",
    "df = pd.DataFrame()\n",
    "\n",
    "for acao in dados_gerais:\n",
    "    if acao['Nome'] == nova_adicao:\n",
    "        portfolio.append(acao)\n",
    "\n",
    "for acao in dados_gerais:\n",
    "    df[acao['Nome']] = acao['Retorno relativo diario']\n",
    "    \n",
    "for acao in portfolio:\n",
    "    nome = acao['Nome']\n",
    "    df[f'Portifolio {nome}'] = acao['Retorno relativo diario']\n",
    "\n",
    "correlacoes = df.corr()\n",
    "menor_correlacao1 = 1000000000\n",
    "nome_acao_menor_correlacao1 = ''\n",
    "\n",
    "for i in range(len(correlacoes['Portifolio GOOG'])):\n",
    "    if correlacoes['Portifolio GOOG'][i] < menor_correlacao1:\n",
    "        menor_correlacao1 = correlacoes['Portifolio GOOG'][i]\n",
    "        nome_acao_menor_correlacao1 = correlacoes['Portifolio GOOG'].index[i]\n",
    "\n",
    "print(menor_correlacao1)\n",
    "print(nome_acao_menor_correlacao1)"
   ]
  },
  {
   "cell_type": "code",
   "execution_count": 153,
   "metadata": {},
   "outputs": [
    {
     "name": "stdout",
     "output_type": "stream",
     "text": [
      "0.10695818639265871\n",
      "ORCL\n"
     ]
    },
    {
     "name": "stderr",
     "output_type": "stream",
     "text": [
      "C:\\Users\\gusri\\AppData\\Local\\Temp\\ipykernel_26620\\1221428829.py:12: FutureWarning: Series.__getitem__ treating keys as positions is deprecated. In a future version, integer keys will always be treated as labels (consistent with DataFrame behavior). To access a value by position, use `ser.iloc[pos]`\n",
      "  if correlacoes['Portifolio GOOG'][i] < menor_correlacao2:\n",
      "C:\\Users\\gusri\\AppData\\Local\\Temp\\ipykernel_26620\\1221428829.py:14: FutureWarning: Series.__getitem__ treating keys as positions is deprecated. In a future version, integer keys will always be treated as labels (consistent with DataFrame behavior). To access a value by position, use `ser.iloc[pos]`\n",
      "  menor_correlacao2 = correlacoes['Portifolio GOOG'][i]\n",
      "C:\\Users\\gusri\\AppData\\Local\\Temp\\ipykernel_26620\\1221428829.py:19: FutureWarning: Series.__getitem__ treating keys as positions is deprecated. In a future version, integer keys will always be treated as labels (consistent with DataFrame behavior). To access a value by position, use `ser.iloc[pos]`\n",
      "  if correlacoes[nova_adicao1][i] < menor_correlacao2:\n",
      "C:\\Users\\gusri\\AppData\\Local\\Temp\\ipykernel_26620\\1221428829.py:21: FutureWarning: Series.__getitem__ treating keys as positions is deprecated. In a future version, integer keys will always be treated as labels (consistent with DataFrame behavior). To access a value by position, use `ser.iloc[pos]`\n",
      "  menor_correlacao2 = correlacoes[nova_adicao1][i]\n"
     ]
    }
   ],
   "source": [
    "nova_adicao1 = nome_acao_menor_correlacao1\n",
    "\n",
    "for acao in dados_gerais:\n",
    "    if acao['Nome'] == nova_adicao1:\n",
    "        portfolio.append(acao)\n",
    "\n",
    "menor_correlacao2 = 1000000000\n",
    "nome_acao_menor_correlacao2 = ''\n",
    "\n",
    "for i in range(len(correlacoes['Portifolio GOOG'])):\n",
    "\n",
    "    if correlacoes['Portifolio GOOG'][i] < menor_correlacao2:\n",
    "        if correlacoes['Portifolio GOOG'].index[i] != nova_adicao1 and correlacoes['Portifolio GOOG'].index[i] != 'Portifolio GOOG':\n",
    "            menor_correlacao2 = correlacoes['Portifolio GOOG'][i]\n",
    "            nome_acao_menor_correlacao2 = correlacoes['Portifolio GOOG'].index[i]\n",
    "\n",
    "for i in range(len(correlacoes[nova_adicao1])):    \n",
    "\n",
    "    if correlacoes[nova_adicao1][i] < menor_correlacao2:\n",
    "        if correlacoes[nova_adicao1].index[i] != nova_adicao1 and correlacoes[nova_adicao1].index[i] != 'Portifolio GOOG':\n",
    "            menor_correlacao2 = correlacoes[nova_adicao1][i]\n",
    "            nome_acao_menor_correlacao2 = correlacoes[nova_adicao1].index[i]\n",
    "\n",
    "print(menor_correlacao2)\n",
    "print(nome_acao_menor_correlacao2)"
   ]
  },
  {
   "cell_type": "code",
   "execution_count": 154,
   "metadata": {},
   "outputs": [
    {
     "name": "stdout",
     "output_type": "stream",
     "text": [
      "0.11629687718265924\n",
      "CSCO\n"
     ]
    },
    {
     "name": "stderr",
     "output_type": "stream",
     "text": [
      "C:\\Users\\gusri\\AppData\\Local\\Temp\\ipykernel_26620\\2184840192.py:12: FutureWarning: Series.__getitem__ treating keys as positions is deprecated. In a future version, integer keys will always be treated as labels (consistent with DataFrame behavior). To access a value by position, use `ser.iloc[pos]`\n",
      "  if correlacoes['Portifolio GOOG'][i] < menor_correlacao3:\n",
      "C:\\Users\\gusri\\AppData\\Local\\Temp\\ipykernel_26620\\2184840192.py:14: FutureWarning: Series.__getitem__ treating keys as positions is deprecated. In a future version, integer keys will always be treated as labels (consistent with DataFrame behavior). To access a value by position, use `ser.iloc[pos]`\n",
      "  menor_correlacao3 = correlacoes['Portifolio GOOG'][i]\n",
      "C:\\Users\\gusri\\AppData\\Local\\Temp\\ipykernel_26620\\2184840192.py:19: FutureWarning: Series.__getitem__ treating keys as positions is deprecated. In a future version, integer keys will always be treated as labels (consistent with DataFrame behavior). To access a value by position, use `ser.iloc[pos]`\n",
      "  if correlacoes[nova_adicao1][i] < menor_correlacao3:\n",
      "C:\\Users\\gusri\\AppData\\Local\\Temp\\ipykernel_26620\\2184840192.py:21: FutureWarning: Series.__getitem__ treating keys as positions is deprecated. In a future version, integer keys will always be treated as labels (consistent with DataFrame behavior). To access a value by position, use `ser.iloc[pos]`\n",
      "  menor_correlacao3 = correlacoes[nova_adicao1][i]\n",
      "C:\\Users\\gusri\\AppData\\Local\\Temp\\ipykernel_26620\\2184840192.py:26: FutureWarning: Series.__getitem__ treating keys as positions is deprecated. In a future version, integer keys will always be treated as labels (consistent with DataFrame behavior). To access a value by position, use `ser.iloc[pos]`\n",
      "  if correlacoes[nova_adicao2][i] < menor_correlacao3:\n"
     ]
    }
   ],
   "source": [
    "nova_adicao2 = nome_acao_menor_correlacao2\n",
    "\n",
    "for acao in dados_gerais:\n",
    "    if acao['Nome'] == nova_adicao2:\n",
    "        portfolio.append(acao)\n",
    "\n",
    "menor_correlacao3 = 1000000000\n",
    "nome_acao_menor_correlacao3 = ''\n",
    "\n",
    "for i in range(len(correlacoes['Portifolio GOOG'])):\n",
    "\n",
    "    if correlacoes['Portifolio GOOG'][i] < menor_correlacao3:\n",
    "        if correlacoes['Portifolio GOOG'].index[i] != 'Portifolio GOOG' and correlacoes['Portifolio GOOG'].index[i] != nova_adicao1 and correlacoes['Portifolio GOOG'].index[i] != nova_adicao2:\n",
    "            menor_correlacao3 = correlacoes['Portifolio GOOG'][i]\n",
    "            nome_acao_menor_correlacao3 = correlacoes['Portifolio GOOG'].index[i]\n",
    "\n",
    "for i in range(len(correlacoes[nova_adicao])):    \n",
    "\n",
    "    if correlacoes[nova_adicao1][i] < menor_correlacao3:\n",
    "        if correlacoes[nova_adicao1].index[i] != 'Portifolio GOOG' and correlacoes[nova_adicao1].index[i] != nova_adicao1 and correlacoes[nova_adicao1].index[i] != nova_adicao2:\n",
    "            menor_correlacao3 = correlacoes[nova_adicao1][i]\n",
    "            nome_acao_menor_correlacao3 = correlacoes[nova_adicao1].index[i]\n",
    "\n",
    "for i in range(len(correlacoes[nova_adicao])):    \n",
    "\n",
    "    if correlacoes[nova_adicao2][i] < menor_correlacao3:\n",
    "        if correlacoes[nova_adicao2].index[i] != 'Portifolio GOOG' and correlacoes[nova_adicao2].index[i] != nova_adicao1 and correlacoes[nova_adicao2].index[i] != nova_adicao2:\n",
    "            menor_correlacao3 = correlacoes[nova_adicao2][i]\n",
    "            nome_acao_menor_correlacao3 = correlacoes[nova_adicao2].index[i]\n",
    "\n",
    "nova_adicao3 = nome_acao_menor_correlacao3\n",
    "\n",
    "for acao in dados_gerais:\n",
    "    if acao['Nome'] == nova_adicao3:\n",
    "        portfolio.append(acao)\n",
    "\n",
    "print(menor_correlacao3)\n",
    "print(nome_acao_menor_correlacao3)"
   ]
  },
  {
   "cell_type": "code",
   "execution_count": 157,
   "metadata": {},
   "outputs": [
    {
     "data": {
      "image/png": "[encoded data removed]",
      "text/plain": [
       "<Figure size 640x480 with 1 Axes>"
      ]
     },
     "metadata": {},
     "output_type": "display_data"
    }
   ],
   "source": [
    "# 4- Calculando os Índices para cada Portfolio\n",
    "\n",
    "sharpees = []\n",
    "\n",
    "datap = pd.DataFrame()\n",
    "datap1 = pd.DataFrame()\n",
    "datap2 = pd.DataFrame()\n",
    "datap3 = pd.DataFrame()\n",
    "\n",
    "datap['Valor investido'] = portfolio[0]['Valor ganho dia'] \n",
    "datap1['Valor investido'] = datap['Valor investido'] + portfolio[1]['Valor ganho dia']\n",
    "datap2['Valor investido'] = datap1['Valor investido'] + portfolio[2]['Valor ganho dia']\n",
    "datap3['Valor investido'] = datap2['Valor investido'] + portfolio[3]['Valor ganho dia']\n",
    "\n",
    "retornop = datap['Valor investido'].pct_change()\n",
    "retornop1 = datap1['Valor investido'].pct_change()\n",
    "retornop2 = datap2['Valor investido'].pct_change()\n",
    "retornop3 = datap3['Valor investido'].pct_change()\n",
    "\n",
    "retorno_totalp = (datap.iloc[-1]['Valor investido']/datap.iloc[0]['Valor investido'] - 1)\n",
    "retorno_totalp1 = (datap1.iloc[-1]['Valor investido']/datap1.iloc[0]['Valor investido'] - 1)\n",
    "retorno_totalp2 = (datap2.iloc[-1]['Valor investido']/datap2.iloc[0]['Valor investido'] - 1)\n",
    "retorno_totalp3 = (datap3.iloc[-1]['Valor investido']/datap3.iloc[0]['Valor investido'] - 1)\n",
    "\n",
    "desvio_padrao = retornop.std()\n",
    "desvio_padrao1 = retornop1.std()\n",
    "desvio_padrao2 = retornop2.std()\n",
    "desvio_padrao3 = retornop3.std()\n",
    "\n",
    "sharpee0 = retorno_totalp/desvio_padrao\n",
    "sharpee1 = retorno_totalp1/desvio_padrao1\n",
    "sharpee2 = retorno_totalp2/desvio_padrao2\n",
    "sharpee3 = retorno_totalp3/desvio_padrao3\n",
    "\n",
    "sharpees.append(sharpe_inicial)\n",
    "sharpees.append(sharpee1)\n",
    "sharpees.append(sharpee2)\n",
    "sharpees.append(sharpee3)\n",
    "\n",
    "portfolios = ['Entrada da Alphabet', 'Entrada da Zoom', 'Entrada da Cisco', 'Entrada da Oracle']\n",
    "\n",
    "# Gráfico\n",
    "plt.figure()\n",
    "plt.plot(portfolios, sharpees, marker='o', color='blue', markersize=8, linewidth=2)\n",
    "plt.xlabel('Portfólio')\n",
    "plt.ylabel('Índice de Sharpe')\n",
    "plt.title('Desenvolvendo portfólio de ações com Índice Sharpe')\n",
    "plt.grid(axis='y', linestyle='--', alpha=0.7)\n",
    "plt.legend(['Índice de Sharpe'], loc='best', fontsize=10)\n",
    "plt.tight_layout()\n",
    "plt.show()"
   ]
  }
 ],
 "metadata": {
  "kernelspec": {
   "display_name": ".venv",
   "language": "python",
   "name": "python3"
  },
  "language_info": {
   "codemirror_mode": {
    "name": "ipython",
    "version": 3
   },
   "file_extension": ".py",
   "mimetype": "text/x-python",
   "name": "python",
   "nbconvert_exporter": "python",
   "pygments_lexer": "ipython3",
   "version": "3.11.4"
  },
  "orig_nbformat": 4
 },
 "nbformat": 4,
 "nbformat_minor": 2
}
