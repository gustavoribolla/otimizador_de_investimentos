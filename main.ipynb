{
 "cells": [
  {
   "cell_type": "code",
   "execution_count": 2,
   "metadata": {},
   "outputs": [],
   "source": [
    "import pandas as pd\n",
    "import matplotlib.pyplot as plt\n",
    "import yfinance as yf"
   ]
  },
  {
   "cell_type": "code",
   "execution_count": 3,
   "metadata": {},
   "outputs": [
    {
     "name": "stdout",
     "output_type": "stream",
     "text": [
      "61.055489085134894\n"
     ]
    }
   ],
   "source": [
    "# 1- Índice de Sharpe Alphabet\n",
    "\n",
    "alphabet = 'GOOG'\n",
    "ticker_alphabet = yf.Ticker(alphabet)\n",
    "data_goog = ticker_alphabet.history(period='5y') \n",
    "investimento_inicial = 1000 \n",
    "n_acoes1 = investimento_inicial / data_goog.iloc[0]['Close']\n",
    "data_goog['Valor investido'] = n_acoes1 * data_goog['Close']\n",
    "datap = pd.DataFrame()\n",
    "datap['Valor investido'] = data_goog['Valor investido']\n",
    "ret_goog = data_goog['Valor investido'].pct_change()\n",
    "ret_total1 = (data_goog.iloc[-1]['Valor investido']/data_goog.iloc[0]['Valor investido'] - 1)\n",
    "sigma_goog = ret_goog.std()\n",
    "sharpe1 = ret_total1/sigma_goog\n",
    "print(sharpe1)"
   ]
  },
  {
   "cell_type": "code",
   "execution_count": 4,
   "metadata": {},
   "outputs": [],
   "source": [
    "# 2- Coleta de Dados\n",
    "\n",
    "empresas = ['AAPL', 'ACN', 'ADBE', 'AMZN', 'AVGO', 'CRM', 'CSCO', 'GOOG', 'INTU', 'META', 'MSFT', 'ORCL', 'SAP', 'SHOP' ,'SNPS', 'TCEHY', 'TSLA', 'UBER', 'VMW', 'ZM']\n",
    "\n",
    "dados_gerais = []\n",
    "portfolio = []\n",
    "\n",
    "for acao in empresas:\n",
    "    dados = {}\n",
    "    informacoes = yf.Ticker(acao).history(period='5y')\n",
    "\n",
    "    dados['Nome'] = acao\n",
    "    dados['Valor investido inicial'] = 1000\n",
    "    dados['Quantidade Ações'] = 1000 / informacoes['Close'].iloc[0]\n",
    "    dados['Valor investido atual'] = dados['Quantidade Ações'] * informacoes['Close'].iloc[-1]\n",
    "    dados['Retorno relativo total'] = (dados['Valor investido atual'] / dados['Valor investido inicial']) -1\n",
    "    dados['Retorno relativo diario'] = (dados['Quantidade Ações'] * informacoes['Close']).pct_change()\n",
    "    dados['Valor ganho dia'] = dados['Quantidade Ações'] * informacoes['Close']\n",
    "    dados['Desvio padrão diario'] = dados['Retorno relativo diario'].std()\n",
    "    dados['Indice Sharpee'] = dados['Retorno relativo total']/ dados['Desvio padrão diario']\n",
    "    \n",
    "    dados_gerais.append(dados)"
   ]
  },
  {
   "cell_type": "code",
   "execution_count": 5,
   "metadata": {},
   "outputs": [
    {
     "name": "stdout",
     "output_type": "stream",
     "text": [
      "GOOG\n",
      "AAPL\n",
      "ADBE\n",
      "AVGO\n"
     ]
    },
    {
     "name": "stderr",
     "output_type": "stream",
     "text": [
      "C:\\Users\\gusri\\AppData\\Local\\Temp\\ipykernel_18820\\273073319.py:19: FutureWarning: Series.__getitem__ treating keys as positions is deprecated. In a future version, integer keys will always be treated as labels (consistent with DataFrame behavior). To access a value by position, use `ser.iloc[pos]`\n",
      "  if correlacoes['Portifolio GOOG'][i] < menor_correlacao:\n",
      "C:\\Users\\gusri\\AppData\\Local\\Temp\\ipykernel_18820\\273073319.py:20: FutureWarning: Series.__getitem__ treating keys as positions is deprecated. In a future version, integer keys will always be treated as labels (consistent with DataFrame behavior). To access a value by position, use `ser.iloc[pos]`\n",
      "  menor_correlacao = correlacoes['Portifolio GOOG'][i]\n",
      "C:\\Users\\gusri\\AppData\\Local\\Temp\\ipykernel_18820\\273073319.py:19: FutureWarning: Series.__getitem__ treating keys as positions is deprecated. In a future version, integer keys will always be treated as labels (consistent with DataFrame behavior). To access a value by position, use `ser.iloc[pos]`\n",
      "  if correlacoes['Portifolio GOOG'][i] < menor_correlacao:\n",
      "C:\\Users\\gusri\\AppData\\Local\\Temp\\ipykernel_18820\\273073319.py:20: FutureWarning: Series.__getitem__ treating keys as positions is deprecated. In a future version, integer keys will always be treated as labels (consistent with DataFrame behavior). To access a value by position, use `ser.iloc[pos]`\n",
      "  menor_correlacao = correlacoes['Portifolio GOOG'][i]\n",
      "C:\\Users\\gusri\\AppData\\Local\\Temp\\ipykernel_18820\\273073319.py:19: FutureWarning: Series.__getitem__ treating keys as positions is deprecated. In a future version, integer keys will always be treated as labels (consistent with DataFrame behavior). To access a value by position, use `ser.iloc[pos]`\n",
      "  if correlacoes['Portifolio GOOG'][i] < menor_correlacao:\n",
      "C:\\Users\\gusri\\AppData\\Local\\Temp\\ipykernel_18820\\273073319.py:20: FutureWarning: Series.__getitem__ treating keys as positions is deprecated. In a future version, integer keys will always be treated as labels (consistent with DataFrame behavior). To access a value by position, use `ser.iloc[pos]`\n",
      "  menor_correlacao = correlacoes['Portifolio GOOG'][i]\n"
     ]
    }
   ],
   "source": [
    "# 3- Cálculo Correlação\n",
    "\n",
    "for acao in dados_gerais:\n",
    "    if acao['Nome'] == 'GOOG':\n",
    "        portfolio.append(acao)\n",
    "\n",
    "df = pd.DataFrame()\n",
    "\n",
    "for acao in dados_gerais:\n",
    "    df[acao['Nome']] = acao['Retorno relativo diario']\n",
    "for acao in portfolio:\n",
    "    nome = acao['Nome']\n",
    "    df[f'Portifolio {nome}'] = acao['Retorno relativo diario']\n",
    "\n",
    "for i in range(3):\n",
    "    menor_correlacao = 1\n",
    "    nome_acao_menor_correlacao = ''\n",
    "    correlacoes = df.corr()\n",
    "    if correlacoes['Portifolio GOOG'][i] < menor_correlacao:\n",
    "        menor_correlacao = correlacoes['Portifolio GOOG'][i]\n",
    "        nome_acao_menor_correlacao = correlacoes['Portifolio GOOG'].index[i]\n",
    "    df.drop(nome_acao_menor_correlacao, axis=1, inplace=True)\n",
    "    \n",
    "    for dict_acao in dados_gerais:\n",
    "        if dict_acao['Nome'] == nome_acao_menor_correlacao:\n",
    "            portfolio.append(dict_acao)\n",
    "\n",
    "for acao in portfolio:\n",
    "    print(acao['Nome'])"
   ]
  },
  {
   "cell_type": "code",
   "execution_count": 15,
   "metadata": {},
   "outputs": [
    {
     "data": {
      "image/png": "[encoded data removed]",
      "text/plain": [
       "<Figure size 640x480 with 1 Axes>"
      ]
     },
     "metadata": {},
     "output_type": "display_data"
    }
   ],
   "source": [
    "# 4- Calculando os Índices para cada Portfolio\n",
    "\n",
    "sharpees = [portfolio[0]['Indice Sharpee']]\n",
    "\n",
    "datap = pd.DataFrame()\n",
    "datap['Valor investido'] = portfolio[0]['Valor ganho dia'] \n",
    "retornop = datap['Valor investido'].pct_change()\n",
    "retorno_totalp = (datap.iloc[-1]['Valor investido']/datap.iloc[0]['Valor investido'] - 1)\n",
    "desvio_padrao = retornop.std()\n",
    "sharpep = retorno_totalp/desvio_padrao\n",
    "sharpees.append(sharpep)\n",
    "\n",
    "datap1 = pd.DataFrame()\n",
    "datap1['Valor investido'] = portfolio[0]['Valor ganho dia'] + portfolio[1]['Valor ganho dia']\n",
    "retornop1 = datap1['Valor investido'].pct_change()\n",
    "retorno_totalp1 = (datap1.iloc[-1]['Valor investido']/datap1.iloc[0]['Valor investido'] - 1)\n",
    "desvio_padrao1 = retornop1.std()\n",
    "sharpep1 = retorno_totalp1/desvio_padrao1\n",
    "sharpees.append(sharpep1)\n",
    "\n",
    "datap2 = pd.DataFrame()\n",
    "datap2['Valor investido'] = datap1['Valor investido'] + portfolio[2]['Valor ganho dia']\n",
    "retornop2 = datap2['Valor investido'].pct_change()\n",
    "retorno_totalp2 = (datap2.iloc[-1]['Valor investido']/datap2.iloc[0]['Valor investido'] - 1)\n",
    "desvio_padrao2 = retornop2.std()\n",
    "sharpep2 = retorno_totalp2/desvio_padrao2\n",
    "sharpees.append(sharpep2)\n",
    "\n",
    "datap3 = pd.DataFrame()\n",
    "datap3['Valor investido'] = datap2['Valor investido'] + portfolio[3]['Valor ganho dia']\n",
    "retornop3 = datap3['Valor investido'].pct_change()\n",
    "retorno_totalp3 = (datap3.iloc[-1]['Valor investido']/datap3.iloc[0]['Valor investido'] - 1)\n",
    "desvio_padrao3 = retornop3.std()\n",
    "sharpep3 = retorno_totalp3/desvio_padrao3\n",
    "sharpees.append(sharpep3)\n",
    "\n",
    "plt.figure()\n",
    "plt.plot(sharpep, label= 'Portfolio Inicial')\n",
    "plt.plot(sharpep1, label= 'Portfolio Secundário')\n",
    "plt.plot(sharpep2, label= 'Portfolio Terciário')\n",
    "plt.plot(sharpep3, label= 'Portfolio Quaternário')\n",
    "plt.ylabel('Índice de Sharpe')\n",
    "plt.title('Risco de Investimentos nos últimos 5 anos')\n",
    "plt.xlabel('Ano')\n",
    "plt.show()"
   ]
  }
 ],
 "metadata": {
  "kernelspec": {
   "display_name": ".venv",
   "language": "python",
   "name": "python3"
  },
  "language_info": {
   "codemirror_mode": {
    "name": "ipython",
    "version": 3
   },
   "file_extension": ".py",
   "mimetype": "text/x-python",
   "name": "python",
   "nbconvert_exporter": "python",
   "pygments_lexer": "ipython3",
   "version": "3.11.4"
  },
  "orig_nbformat": 4
 },
 "nbformat": 4,
 "nbformat_minor": 2
}
