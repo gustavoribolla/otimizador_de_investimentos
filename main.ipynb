{
 "cells": [
  {
   "cell_type": "code",
   "execution_count": 181,
   "metadata": {},
   "outputs": [],
   "source": [
    "import pandas as pd\n",
    "import numpy as np\n",
    "import matplotlib.pyplot as plt\n",
    "import yfinance as yf\n",
    "from statistics import variance"
   ]
  },
  {
   "cell_type": "code",
   "execution_count": 182,
   "metadata": {},
   "outputs": [],
   "source": [
    "#Definindo as ações:\n",
    "acoes = ['PEP', 'ABUD34.SA', 'KO', 'MDLZ', 'ADM', 'DEO', '600519.SS', 'TSN', 'BSN.F', 'KHC', 'F34.SI', 'JBSAY', 'HEIO.AS', 'KDP', 'GIS', 'RI.PA', 'FEMSAUBD.MX', 'BG', '002714.SZ']\n",
    "\n",
    "#Definindo a ação inicial do portifolio:\n",
    "acao_inicial = ['NSRGY']"
   ]
  },
  {
   "cell_type": "code",
   "execution_count": 183,
   "metadata": {},
   "outputs": [
    {
     "name": "stdout",
     "output_type": "stream",
     "text": [
      "[*********************100%%**********************]  1 of 1 completed\n",
      "[*********************100%%**********************]  19 of 19 completed\n"
     ]
    }
   ],
   "source": [
    "portifolio = yf.download(acao_inicial, period='10y')\n",
    "todas = yf.download(acoes, period='10y')['Adj Close']"
   ]
  },
  {
   "cell_type": "code",
   "execution_count": 184,
   "metadata": {},
   "outputs": [],
   "source": [
    "# def calcular_retornos_diarios(portifolio):\n",
    "#     precos = portifolio['Adj Close']\n",
    "#     retornos_diarios = [(precos[i] - precos[i - 1]) / precos[i - 1] * 100 for i in range(1, len(precos))]\n",
    "#     return retornos_diarios\n",
    "\n",
    "# def calcular_retorno_medio(retornos_diarios):\n",
    "#     retorno_medio = sum(retornos_diarios) / len(retornos_diarios)\n",
    "#     return retorno_medio\n",
    "\n",
    "# def indice_de_sharpe(retorno_medio, desvio_padrao):\n",
    "#     rf = 0 \n",
    "#     indice_sharpe = (retorno_medio - rf) / desvio_padrao\n",
    "#     return indice_sharpe\n",
    "\n",
    "# retornos_diarios = calcular_retornos_diarios(portifolio)\n",
    "# retorno_medio = calcular_retorno_medio(retornos_diarios)\n",
    "# desvio_padrao = np.std(retornos_diarios)\n",
    "# indice = indice_de_sharpe(retorno_medio, desvio_padrao)\n",
    "# print(indice)"
   ]
  },
  {
   "cell_type": "markdown",
   "metadata": {},
   "source": []
  },
  {
   "cell_type": "code",
   "execution_count": 189,
   "metadata": {},
   "outputs": [
    {
     "name": "stdout",
     "output_type": "stream",
     "text": [
      "113.90109694075883\n"
     ]
    }
   ],
   "source": [
    "retornos_diarios = portifolio['Adj Close'].pct_change()\n",
    "retornos_gerais = (precos.iloc[-1] / precos.iloc[0]) - 1\n",
    "indice_sharpe = retornos_gerais / retornos_diarios.std()\n",
    "print(indice_sharpe)"
   ]
  }
 ],
 "metadata": {
  "kernelspec": {
   "display_name": ".venv",
   "language": "python",
   "name": "python3"
  },
  "language_info": {
   "codemirror_mode": {
    "name": "ipython",
    "version": 3
   },
   "file_extension": ".py",
   "mimetype": "text/x-python",
   "name": "python",
   "nbconvert_exporter": "python",
   "pygments_lexer": "ipython3",
   "version": "3.11.1"
  },
  "orig_nbformat": 4
 },
 "nbformat": 4,
 "nbformat_minor": 2
}
