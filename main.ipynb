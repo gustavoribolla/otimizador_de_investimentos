{
 "cells": [
  {
   "cell_type": "code",
   "execution_count": 56,
   "metadata": {},
   "outputs": [],
   "source": [
    "import pandas as pd\n",
    "import numpy as np\n",
    "import matplotlib.pyplot as plt\n",
    "import yfinance as yf\n",
    "from statistics import variance"
   ]
  },
  {
   "cell_type": "code",
   "execution_count": 57,
   "metadata": {},
   "outputs": [],
   "source": [
    "#Definindo as ações:\n",
    "acoes = ['PEP', 'ABUD34.SA', 'KO', 'MDLZ', 'ADM', 'DEO', '600519.SS', 'TSN', 'BSN.F', 'KHC', 'F34.SI', 'JBSAY', 'HEIO.AS', 'KDP', 'GIS', 'RI.PA', 'FEMSAUBD.MX', 'BG', '002714.SZ']\n",
    "\n",
    "#Definindo a ação inicial do portifolio:\n",
    "acao_inicial = ['NSRGY']"
   ]
  },
  {
   "cell_type": "code",
   "execution_count": 58,
   "metadata": {},
   "outputs": [
    {
     "name": "stdout",
     "output_type": "stream",
     "text": [
      "[*********************100%%**********************]  1 of 1 completed\n",
      "[*********************100%%**********************]  19 of 19 completed\n"
     ]
    }
   ],
   "source": [
    "portifolio = yf.download(acao_inicial, period='1y')\n",
    "todas = yf.download(acoes, period='1y')['Adj Close']\n"
   ]
  },
  {
   "cell_type": "code",
   "execution_count": 59,
   "metadata": {},
   "outputs": [
    {
     "name": "stdout",
     "output_type": "stream",
     "text": [
      "0.03932130062322175\n"
     ]
    },
    {
     "name": "stderr",
     "output_type": "stream",
     "text": [
      "C:\\Users\\csald\\AppData\\Local\\Temp\\ipykernel_10356\\2771769289.py:31: FutureWarning: Series.__getitem__ treating keys as positions is deprecated. In a future version, integer keys will always be treated as labels (consistent with DataFrame behavior). To access a value by position, use `ser.iloc[pos]`\n",
      "  retornos_diarios = [(precos[i] - precos[i - 1]) / precos[i - 1] * 100 for i in range(1, len(precos))]\n"
     ]
    }
   ],
   "source": [
    "# def calcular_retornos_diarios(portifolio):\n",
    "#     precos = []\n",
    "#     for preco in portifolio['Adj Close']:\n",
    "#         precos.append(preco)\n",
    "        \n",
    "#     retornos_diarios = []\n",
    "#     for i in range(0, len(precos)):\n",
    "#         retorno_diario = ((precos[i] - precos[i - 1]) / precos[i - 1]) * 100\n",
    "#         retornos_diarios.append(retorno_diario)\n",
    "\n",
    "#     return retornos_diarios\n",
    "\n",
    "# def calcular_retorno_medio(retornos_diarios):\n",
    "#     retorno_medio = sum(retornos_diarios) / len(retornos_diarios)\n",
    "#     return retorno_medio\n",
    "\n",
    "# def indice_de_sharpe(retorno_medio):\n",
    "#     rf = 0\n",
    "#     indice_sharpe = (retorno_medio - rf) / ((retorno_medio.variance())**0.5)\n",
    "\n",
    "#     return indice_sharpe\n",
    "\n",
    "# retornos_diarios = calcular_retornos_diarios(portifolio)\n",
    "# retorno_medio = calcular_retorno_medio(retornos_diarios)\n",
    "# indice = indice_de_sharpe(retorno_medio)\n",
    "\n",
    "# print(indice)\n",
    "\n",
    "def calcular_retornos_diarios(portifolio):\n",
    "    precos = portifolio['Adj Close']\n",
    "    retornos_diarios = [(precos[i] - precos[i - 1]) / precos[i - 1] * 100 for i in range(1, len(precos))]\n",
    "    return retornos_diarios\n",
    "\n",
    "def calcular_retorno_medio(retornos_diarios):\n",
    "    retorno_medio = sum(retornos_diarios) / len(retornos_diarios)\n",
    "    return retorno_medio\n",
    "\n",
    "def indice_de_sharpe(retorno_medio, desvio_padrao):\n",
    "    rf = 0 \n",
    "    indice_sharpe = (retorno_medio - rf) / desvio_padrao\n",
    "    return indice_sharpe\n",
    "\n",
    "retornos_diarios = calcular_retornos_diarios(portifolio)\n",
    "retorno_medio = calcular_retorno_medio(retornos_diarios)\n",
    "desvio_padrao = np.std(retornos_diarios)\n",
    "\n",
    "indice = indice_de_sharpe(retorno_medio, desvio_padrao)\n",
    "\n",
    "print(indice)\n"
   ]
  }
 ],
 "metadata": {
  "kernelspec": {
   "display_name": ".venv",
   "language": "python",
   "name": "python3"
  },
  "language_info": {
   "codemirror_mode": {
    "name": "ipython",
    "version": 3
   },
   "file_extension": ".py",
   "mimetype": "text/x-python",
   "name": "python",
   "nbconvert_exporter": "python",
   "pygments_lexer": "ipython3",
   "version": "3.11.1"
  },
  "orig_nbformat": 4
 },
 "nbformat": 4,
 "nbformat_minor": 2
}
