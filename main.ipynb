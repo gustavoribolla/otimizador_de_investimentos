{
 "cells": [
  {
   "cell_type": "code",
   "execution_count": 17,
   "metadata": {},
   "outputs": [],
   "source": [
    "import pandas as pd\n",
    "import numpy as np\n",
    "import matplotlib.pyplot as plt\n",
    "import yfinance as yf"
   ]
  },
  {
   "cell_type": "code",
   "execution_count": 18,
   "metadata": {},
   "outputs": [],
   "source": [
    "#Definindo as ações:\n",
    "acoes = ['PEP', 'ABUD34.SA', 'KO', 'MDLZ', 'ADM', 'DEO', '600519.SS', 'TSN', 'BSN.F', 'KHC', 'F34.SI', 'JBSAY', 'HEIO.AS', 'KDP', 'GIS', 'RI.PA', 'FEMSAUBD.MX', 'BG', '002714.SZ']\n",
    "\n",
    "#Definindo a ação inicial do portifolio:\n",
    "acao_inicial = ['NSRGY']"
   ]
  },
  {
   "cell_type": "code",
   "execution_count": 19,
   "metadata": {},
   "outputs": [
    {
     "name": "stdout",
     "output_type": "stream",
     "text": [
      "[*********************100%%**********************]  1 of 1 completed\n",
      "[*********************100%%**********************]  19 of 19 completed\n"
     ]
    }
   ],
   "source": [
    "portifolio = yf.download(acao_inicial, period='1y')['Adj Close']\n",
    "todas = yf.download(acoes, period='1y')['Adj Close']"
   ]
  },
  {
   "cell_type": "code",
   "execution_count": null,
   "metadata": {},
   "outputs": [],
   "source": [
    "#Calcular indice sharpe do portifolio:\n"
   ]
  }
 ],
 "metadata": {
  "kernelspec": {
   "display_name": ".venv",
   "language": "python",
   "name": "python3"
  },
  "language_info": {
   "codemirror_mode": {
    "name": "ipython",
    "version": 3
   },
   "file_extension": ".py",
   "mimetype": "text/x-python",
   "name": "python",
   "nbconvert_exporter": "python",
   "pygments_lexer": "ipython3",
   "version": "3.11.1"
  },
  "orig_nbformat": 4
 },
 "nbformat": 4,
 "nbformat_minor": 2
}
